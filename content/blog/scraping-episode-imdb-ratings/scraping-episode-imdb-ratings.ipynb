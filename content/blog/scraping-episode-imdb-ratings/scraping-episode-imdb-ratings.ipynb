{
 "cells": [
  {
   "cell_type": "markdown",
   "metadata": {},
   "source": [
    "# Step-by-step: Scraping Community (2009)'s IMDb Ratings\n",
    "\n",
    "There are tons of tutorials out there that teach you how to scrape movie ratings from IMDb, but I haven't seen any about scraping TV series episode ratings. So for anyone wanting to do that, I've created this tutorial specifically for it. It's catered mostly to beginners to web scraping since the steps are broken down. If you want the code without the breakdown you can find it [here]().\n",
    "\n",
    "There is a wonderful DataQuest tutorial by Alex Olteanu that explains in-depth how to scrape over 2000 movies from IMDb, and it was my reference as I learned how to scrape these episodes. You can find it [here](https://www.dataquest.io/blog/web-scraping-beautifulsoup/). \n",
    "\n",
    "Since their tutorial already does a great job at explaining the basics of [identifying the URL structure](https://www.dataquest.io/blog/web-scraping-beautifulsoup/#identifyingtheurlstructure) and understanding the HTML structure of a single page, I've linked those parts and recommend you read them if you aren't already familiar because I won't be explaining them here.\n",
    "\n",
    "In *this* tutorial I will *not* be redundant in explaining what they already did; instead, I'll be doing many similar steps, but they will be specifically for taking episode ratings (same for any series) instead of movie ratings."
   ]
  },
  {
   "cell_type": "markdown",
   "metadata": {},
   "source": [
    "# Breaking it down\n",
    "First, you'll need to navigate to the series of your choice's season 1 page that lists all of that season's episodes. The series I will be using is Community. It should look like this:\n",
    "\n",
    "![]()\n",
    "\n",
    "Get the url of that page. It should be structured like this:\n",
    "ht<span>tp://</span>www.imdb.com/title/<span style=\"background-color: #ffd850\">tt1439629</span>/episodes?season=1     \n",
    "Highlighted is the part that is the show's ID and will be different for you if you're not using Community.\n",
    "\n",
    "First, we will request the server the content of the web page by using `get()`, and store the server’s response in the variable `response` and look at the first few lines. We can see that inside `response` is the html code of the webpage."
   ]
  },
  {
   "cell_type": "code",
   "execution_count": 21,
   "metadata": {},
   "outputs": [
    {
     "output_type": "stream",
     "name": "stdout",
     "text": "\n \n\n\n\n\n\n\n\n\n\n\n<!DOCTYPE html>\n<html\n    xmlns:og=\"http://ogp.me/ns#\"\n    xmlns:fb=\"http://www.facebook.com/2008/fbml\">\n    <head>\n         \n        <meta charset=\"utf-8\">\n        <meta http-equiv=\"X-UA-Compatible\" content=\"IE=edge\">\n\n    <meta name=\"a\n"
    }
   ],
   "source": [
    "from requests import get\n",
    "url = 'https://www.imdb.com/title/tt1439629/episodes?season=1'\n",
    "response = get(url)\n",
    "print(response.text[:250])"
   ]
  },
  {
   "cell_type": "markdown",
   "metadata": {},
   "source": [
    "## Use BeautifulSoup to parse the HTML content\n",
    "Next, we'll parse `response.text` by creating a BeautifulSoup object, and assign this object to `html_soup`. The 'html.parser' argument indicates that we want to do the parsing using Python’s built-in HTML parser."
   ]
  },
  {
   "cell_type": "code",
   "execution_count": 22,
   "metadata": {},
   "outputs": [
    {
     "output_type": "execute_result",
     "data": {
      "text/plain": "bs4.BeautifulSoup"
     },
     "metadata": {},
     "execution_count": 22
    }
   ],
   "source": [
    "from bs4 import BeautifulSoup\n",
    "\n",
    "html_soup = BeautifulSoup(response.text, 'html.parser')\n",
    "type(html_soup)"
   ]
  },
  {
   "cell_type": "markdown",
   "metadata": {},
   "source": [
    "<span style=\"background-color: #ffd850\">This part onwards is where the code will differ from the movie example.</span>\n",
    "\n",
    "**The variables we will be getting are:**\n",
    "- Episode title\n",
    "- Episode number\n",
    "- Airdate\n",
    "- IMDb rating \n",
    "- Total votes\n",
    "- Episode description\n",
    "\n",
    "Let's look at the container we're interested in. As you can see below, all of the info we need is in `<div class=\"info\" ...> </div>`:\n",
    "\n",
    "![](/02_html.png)\n",
    "\n",
    "In <span style=\"background-color: #ffd850\">yellow</span> are the tags/parts of the code that we will be calling to get to the data we are trying to extract, which are in <span style=\"background-color: #99CC99\">green</span>.\n",
    "\n",
    "We will grab all of the instances of `<div class=\"info\" ...> </div>` from the page; there is one for each episode."
   ]
  },
  {
   "cell_type": "code",
   "execution_count": 23,
   "metadata": {},
   "outputs": [],
   "source": [
    "episode_containers = html_soup.find_all('div', class_='info')"
   ]
  },
  {
   "cell_type": "markdown",
   "metadata": {},
   "source": [
    "`find_all()` returned a `ResultSet` object --`episode_containers`-- which is a list containing all of the 25 `<div class=\"info\" ...> </div>`s."
   ]
  },
  {
   "cell_type": "markdown",
   "metadata": {},
   "source": [
    "## Extracting each variable that we need"
   ]
  },
  {
   "cell_type": "markdown",
   "metadata": {},
   "source": [
    "Read [this part](https://www.dataquest.io/blog/web-scraping-beautifulsoup/#thenameofthemovie) of the dataquest article to understand how calling the tags works.\n",
    "\n",
    "Here we'll see how we can extract the data from the `episode_containters` for each episode.\n",
    "\n",
    "`episode_containters[0]` calls the first instance of `<div class=\"info\" ...> </div>`, i.e. the first episode. After the first couple of variables, you will understand the structure of calling the contents of the html containers."
   ]
  },
  {
   "cell_type": "markdown",
   "metadata": {},
   "source": [
    "### Episode title\n",
    "For the title we will need to call 'title' attribute from the `<a>` tag."
   ]
  },
  {
   "cell_type": "code",
   "execution_count": 24,
   "metadata": {},
   "outputs": [
    {
     "output_type": "execute_result",
     "data": {
      "text/plain": "'Pilot'"
     },
     "metadata": {},
     "execution_count": 24
    }
   ],
   "source": [
    "episode_containers[0].a['title']"
   ]
  },
  {
   "cell_type": "markdown",
   "metadata": {},
   "source": [
    "### Episode number\n",
    "The episode number in the `<meta>` tag, under the 'content' attribute."
   ]
  },
  {
   "cell_type": "code",
   "execution_count": 25,
   "metadata": {},
   "outputs": [
    {
     "output_type": "execute_result",
     "data": {
      "text/plain": "'1'"
     },
     "metadata": {},
     "execution_count": 25
    }
   ],
   "source": [
    "episode_containers[0].meta['content']"
   ]
  },
  {
   "cell_type": "markdown",
   "metadata": {},
   "source": [
    "### Airdate\n",
    "Airdate is in the `<div>` tag with the class `airdate`, and we can get its contents the `text` attribute, afterwhich we `strip()` it to remove whitespace."
   ]
  },
  {
   "cell_type": "code",
   "execution_count": 26,
   "metadata": {},
   "outputs": [
    {
     "output_type": "execute_result",
     "data": {
      "text/plain": "'17 Sep. 2009'"
     },
     "metadata": {},
     "execution_count": 26
    }
   ],
   "source": [
    "episode_containers[0].find('div', class_='airdate').text.strip()"
   ]
  },
  {
   "cell_type": "markdown",
   "metadata": {},
   "source": [
    "### IMDb rating\n",
    "The rating is is in the `<div>` tag with the class `ipl-rating-star__rating`, which also use the `text` attribute to get the contents of."
   ]
  },
  {
   "cell_type": "code",
   "execution_count": 27,
   "metadata": {},
   "outputs": [
    {
     "output_type": "execute_result",
     "data": {
      "text/plain": "'7.8'"
     },
     "metadata": {},
     "execution_count": 27
    }
   ],
   "source": [
    "episode_containers[0].find('span', class_='ipl-rating-star__rating').text"
   ]
  },
  {
   "cell_type": "markdown",
   "metadata": {},
   "source": [
    "### Total votes\n",
    "It is the same thing for the total votes, except it's under a different class."
   ]
  },
  {
   "cell_type": "code",
   "execution_count": 28,
   "metadata": {},
   "outputs": [
    {
     "output_type": "execute_result",
     "data": {
      "text/plain": "'(3,187)'"
     },
     "metadata": {},
     "execution_count": 28
    }
   ],
   "source": [
    "episode_containers[0].find('span', class_='ipl-rating-star__total-votes').text"
   ]
  },
  {
   "cell_type": "markdown",
   "metadata": {},
   "source": [
    "### Episode description\n",
    "For the description, we do the same thing we did for the airdate and just change the class."
   ]
  },
  {
   "cell_type": "code",
   "execution_count": 29,
   "metadata": {},
   "outputs": [
    {
     "output_type": "execute_result",
     "data": {
      "text/plain": "'An ex-lawyer is forced to return to community college to get a degree. However, he tries to use the skills he learned as a lawyer to get the answers to all his tests and pick up on a sexy woman in his Spanish class.'"
     },
     "metadata": {},
     "execution_count": 29
    }
   ],
   "source": [
    "episode_containers[0].find('div', class_='item_description').text.strip()\n"
   ]
  },
  {
   "cell_type": "markdown",
   "metadata": {},
   "source": [
    "# Final code-- Putting it all together\n",
    "\n",
    "Now that we know how to get each variable, we need to iterate for each episode and each season. This will require two for loops. The output will be a list that we will make into a pandas DataFrame. The comments in the code explain each step."
   ]
  },
  {
   "cell_type": "code",
   "execution_count": 30,
   "metadata": {},
   "outputs": [],
   "source": [
    "# Initializing the series that the loop will populate\n",
    "community_episodes = []\n",
    "\n",
    "# For every season in the series\n",
    "for sn in range(1,7):\n",
    "    # Request from the server the content of the web page by using get(), and store the server’s response in the variable response\n",
    "    response = get('https://www.imdb.com/title/tt1439629/episodes?season=' + str(sn))\n",
    "\n",
    "    # Parse the content of the request with BeautifulSoup\n",
    "    page_html = BeautifulSoup(response.text, 'html.parser')\n",
    "\n",
    "    # Select all the episode containers from the season's page\n",
    "    episode_containers = page_html.find_all('div', class_ = 'info')\n",
    "\n",
    "    # For each episode in each season\n",
    "    for episodes in episode_containers:\n",
    "            # Get the info of each episode on the page\n",
    "            season = sn\n",
    "            episode_number = episodes.meta['content']\n",
    "            title = episodes.a['title']\n",
    "            airdate = episodes.find('div', class_='airdate').text.strip()\n",
    "            rating = episodes.find('span', class_='ipl-rating-star__rating').text\n",
    "            total_votes = episodes.find('span', class_='ipl-rating-star__total-votes').text\n",
    "            desc = episodes.find('div', class_='item_description').text.strip()\n",
    "            # Compiling the episode info\n",
    "            episode_data = [season, episode_number, title, airdate, rating, total_votes, desc]\n",
    "\n",
    "            # Append the episode info to the complete dataset\n",
    "            community_episodes.append(episode_data)"
   ]
  },
  {
   "cell_type": "markdown",
   "metadata": {},
   "source": [
    "### Making the dataframe"
   ]
  },
  {
   "cell_type": "code",
   "execution_count": 31,
   "metadata": {},
   "outputs": [
    {
     "output_type": "execute_result",
     "data": {
      "text/plain": "   season episode_number                  title       airdate rating  \\\n0       1              1                  Pilot  17 Sep. 2009    7.8   \n1       1              2            Spanish 101  24 Sep. 2009    7.9   \n2       1              3   Introduction to Film   1 Oct. 2009    8.3   \n3       1              4      Social Psychology   8 Oct. 2009    8.2   \n4       1              5  Advanced Criminal Law  15 Oct. 2009    7.9   \n\n  total_votes                                               desc  \n0     (3,187)  An ex-lawyer is forced to return to community ...  \n1     (2,760)  Jeff takes steps to ensure that Brita will be ...  \n2     (2,696)  Brita comes between Abed and his father when s...  \n3     (2,473)  Jeff and Shirley bond by making fun of Britta'...  \n4     (2,375)  Señor Chang is on the hunt for a cheater and t...  ",
      "text/html": "<div>\n<style scoped>\n    .dataframe tbody tr th:only-of-type {\n        vertical-align: middle;\n    }\n\n    .dataframe tbody tr th {\n        vertical-align: top;\n    }\n\n    .dataframe thead th {\n        text-align: right;\n    }\n</style>\n<table border=\"1\" class=\"dataframe\">\n  <thead>\n    <tr style=\"text-align: right;\">\n      <th></th>\n      <th>season</th>\n      <th>episode_number</th>\n      <th>title</th>\n      <th>airdate</th>\n      <th>rating</th>\n      <th>total_votes</th>\n      <th>desc</th>\n    </tr>\n  </thead>\n  <tbody>\n    <tr>\n      <th>0</th>\n      <td>1</td>\n      <td>1</td>\n      <td>Pilot</td>\n      <td>17 Sep. 2009</td>\n      <td>7.8</td>\n      <td>(3,187)</td>\n      <td>An ex-lawyer is forced to return to community ...</td>\n    </tr>\n    <tr>\n      <th>1</th>\n      <td>1</td>\n      <td>2</td>\n      <td>Spanish 101</td>\n      <td>24 Sep. 2009</td>\n      <td>7.9</td>\n      <td>(2,760)</td>\n      <td>Jeff takes steps to ensure that Brita will be ...</td>\n    </tr>\n    <tr>\n      <th>2</th>\n      <td>1</td>\n      <td>3</td>\n      <td>Introduction to Film</td>\n      <td>1 Oct. 2009</td>\n      <td>8.3</td>\n      <td>(2,696)</td>\n      <td>Brita comes between Abed and his father when s...</td>\n    </tr>\n    <tr>\n      <th>3</th>\n      <td>1</td>\n      <td>4</td>\n      <td>Social Psychology</td>\n      <td>8 Oct. 2009</td>\n      <td>8.2</td>\n      <td>(2,473)</td>\n      <td>Jeff and Shirley bond by making fun of Britta'...</td>\n    </tr>\n    <tr>\n      <th>4</th>\n      <td>1</td>\n      <td>5</td>\n      <td>Advanced Criminal Law</td>\n      <td>15 Oct. 2009</td>\n      <td>7.9</td>\n      <td>(2,375)</td>\n      <td>Señor Chang is on the hunt for a cheater and t...</td>\n    </tr>\n  </tbody>\n</table>\n</div>"
     },
     "metadata": {},
     "execution_count": 31
    }
   ],
   "source": [
    "import pandas as pd \n",
    "community_episodes = pd.DataFrame(community_episodes, columns = ['season', 'episode_number', 'title', 'airdate', 'rating', 'total_votes', 'desc'])\n",
    "\n",
    "community_episodes.head()"
   ]
  },
  {
   "cell_type": "markdown",
   "metadata": {},
   "source": [
    "Looks good! Now we just need to clean up the data a bit."
   ]
  },
  {
   "cell_type": "markdown",
   "metadata": {},
   "source": [
    "# Data Cleaning\n",
    "\n",
    "### Converting the total votes count to numeric\n",
    "First, we create a function that replaces the ',' , '(', and ')' strings from `total_votes` so that we can make it numeric."
   ]
  },
  {
   "cell_type": "code",
   "execution_count": 32,
   "metadata": {},
   "outputs": [],
   "source": [
    "def remove_str(votes):\n",
    "    for r in ((',',''), ('(',''),(')','')):\n",
    "        votes = votes.replace(*r)\n",
    "        \n",
    "    return votes"
   ]
  },
  {
   "cell_type": "markdown",
   "metadata": {},
   "source": [
    "Now we apply the function, taking out the strings, then change the type to int using `.astype()`"
   ]
  },
  {
   "cell_type": "code",
   "execution_count": 33,
   "metadata": {},
   "outputs": [
    {
     "output_type": "execute_result",
     "data": {
      "text/plain": "   season episode_number                  title       airdate rating  \\\n0       1              1                  Pilot  17 Sep. 2009    7.8   \n1       1              2            Spanish 101  24 Sep. 2009    7.9   \n2       1              3   Introduction to Film   1 Oct. 2009    8.3   \n3       1              4      Social Psychology   8 Oct. 2009    8.2   \n4       1              5  Advanced Criminal Law  15 Oct. 2009    7.9   \n\n   total_votes                                               desc  \n0         3187  An ex-lawyer is forced to return to community ...  \n1         2760  Jeff takes steps to ensure that Brita will be ...  \n2         2696  Brita comes between Abed and his father when s...  \n3         2473  Jeff and Shirley bond by making fun of Britta'...  \n4         2375  Señor Chang is on the hunt for a cheater and t...  ",
      "text/html": "<div>\n<style scoped>\n    .dataframe tbody tr th:only-of-type {\n        vertical-align: middle;\n    }\n\n    .dataframe tbody tr th {\n        vertical-align: top;\n    }\n\n    .dataframe thead th {\n        text-align: right;\n    }\n</style>\n<table border=\"1\" class=\"dataframe\">\n  <thead>\n    <tr style=\"text-align: right;\">\n      <th></th>\n      <th>season</th>\n      <th>episode_number</th>\n      <th>title</th>\n      <th>airdate</th>\n      <th>rating</th>\n      <th>total_votes</th>\n      <th>desc</th>\n    </tr>\n  </thead>\n  <tbody>\n    <tr>\n      <th>0</th>\n      <td>1</td>\n      <td>1</td>\n      <td>Pilot</td>\n      <td>17 Sep. 2009</td>\n      <td>7.8</td>\n      <td>3187</td>\n      <td>An ex-lawyer is forced to return to community ...</td>\n    </tr>\n    <tr>\n      <th>1</th>\n      <td>1</td>\n      <td>2</td>\n      <td>Spanish 101</td>\n      <td>24 Sep. 2009</td>\n      <td>7.9</td>\n      <td>2760</td>\n      <td>Jeff takes steps to ensure that Brita will be ...</td>\n    </tr>\n    <tr>\n      <th>2</th>\n      <td>1</td>\n      <td>3</td>\n      <td>Introduction to Film</td>\n      <td>1 Oct. 2009</td>\n      <td>8.3</td>\n      <td>2696</td>\n      <td>Brita comes between Abed and his father when s...</td>\n    </tr>\n    <tr>\n      <th>3</th>\n      <td>1</td>\n      <td>4</td>\n      <td>Social Psychology</td>\n      <td>8 Oct. 2009</td>\n      <td>8.2</td>\n      <td>2473</td>\n      <td>Jeff and Shirley bond by making fun of Britta'...</td>\n    </tr>\n    <tr>\n      <th>4</th>\n      <td>1</td>\n      <td>5</td>\n      <td>Advanced Criminal Law</td>\n      <td>15 Oct. 2009</td>\n      <td>7.9</td>\n      <td>2375</td>\n      <td>Señor Chang is on the hunt for a cheater and t...</td>\n    </tr>\n  </tbody>\n</table>\n</div>"
     },
     "metadata": {},
     "execution_count": 33
    }
   ],
   "source": [
    "community_episodes['total_votes'] = community_episodes.total_votes.apply(remove_str).astype(int)\n",
    "\n",
    "community_episodes.head()"
   ]
  },
  {
   "cell_type": "markdown",
   "metadata": {},
   "source": [
    "### Making rating numeric instead of a string"
   ]
  },
  {
   "cell_type": "code",
   "execution_count": 34,
   "metadata": {},
   "outputs": [],
   "source": [
    "community_episodes['rating'] = community_episodes.rating.astype(float)"
   ]
  },
  {
   "cell_type": "markdown",
   "metadata": {},
   "source": [
    "### Converting the airdate from string to datetime"
   ]
  },
  {
   "cell_type": "code",
   "execution_count": 35,
   "metadata": {},
   "outputs": [
    {
     "output_type": "stream",
     "name": "stdout",
     "text": "<class 'pandas.core.frame.DataFrame'>\nRangeIndex: 110 entries, 0 to 109\nData columns (total 7 columns):\n #   Column          Non-Null Count  Dtype         \n---  ------          --------------  -----         \n 0   season          110 non-null    int64         \n 1   episode_number  110 non-null    object        \n 2   title           110 non-null    object        \n 3   airdate         110 non-null    datetime64[ns]\n 4   rating          110 non-null    float64       \n 5   total_votes     110 non-null    int32         \n 6   desc            110 non-null    object        \ndtypes: datetime64[ns](1), float64(1), int32(1), int64(1), object(3)\nmemory usage: 5.7+ KB\n"
    }
   ],
   "source": [
    "community_episodes['airdate'] = pd.to_datetime(community_episodes.airdate)\n",
    "\n",
    "community_episodes.info()"
   ]
  },
  {
   "cell_type": "code",
   "execution_count": 37,
   "metadata": {},
   "outputs": [
    {
     "output_type": "execute_result",
     "data": {
      "text/plain": "   season episode_number                  title    airdate  rating  \\\n0       1              1                  Pilot 2009-09-17     7.8   \n1       1              2            Spanish 101 2009-09-24     7.9   \n2       1              3   Introduction to Film 2009-10-01     8.3   \n3       1              4      Social Psychology 2009-10-08     8.2   \n4       1              5  Advanced Criminal Law 2009-10-15     7.9   \n\n   total_votes                                               desc  \n0         3187  An ex-lawyer is forced to return to community ...  \n1         2760  Jeff takes steps to ensure that Brita will be ...  \n2         2696  Brita comes between Abed and his father when s...  \n3         2473  Jeff and Shirley bond by making fun of Britta'...  \n4         2375  Señor Chang is on the hunt for a cheater and t...  ",
      "text/html": "<div>\n<style scoped>\n    .dataframe tbody tr th:only-of-type {\n        vertical-align: middle;\n    }\n\n    .dataframe tbody tr th {\n        vertical-align: top;\n    }\n\n    .dataframe thead th {\n        text-align: right;\n    }\n</style>\n<table border=\"1\" class=\"dataframe\">\n  <thead>\n    <tr style=\"text-align: right;\">\n      <th></th>\n      <th>season</th>\n      <th>episode_number</th>\n      <th>title</th>\n      <th>airdate</th>\n      <th>rating</th>\n      <th>total_votes</th>\n      <th>desc</th>\n    </tr>\n  </thead>\n  <tbody>\n    <tr>\n      <th>0</th>\n      <td>1</td>\n      <td>1</td>\n      <td>Pilot</td>\n      <td>2009-09-17</td>\n      <td>7.8</td>\n      <td>3187</td>\n      <td>An ex-lawyer is forced to return to community ...</td>\n    </tr>\n    <tr>\n      <th>1</th>\n      <td>1</td>\n      <td>2</td>\n      <td>Spanish 101</td>\n      <td>2009-09-24</td>\n      <td>7.9</td>\n      <td>2760</td>\n      <td>Jeff takes steps to ensure that Brita will be ...</td>\n    </tr>\n    <tr>\n      <th>2</th>\n      <td>1</td>\n      <td>3</td>\n      <td>Introduction to Film</td>\n      <td>2009-10-01</td>\n      <td>8.3</td>\n      <td>2696</td>\n      <td>Brita comes between Abed and his father when s...</td>\n    </tr>\n    <tr>\n      <th>3</th>\n      <td>1</td>\n      <td>4</td>\n      <td>Social Psychology</td>\n      <td>2009-10-08</td>\n      <td>8.2</td>\n      <td>2473</td>\n      <td>Jeff and Shirley bond by making fun of Britta'...</td>\n    </tr>\n    <tr>\n      <th>4</th>\n      <td>1</td>\n      <td>5</td>\n      <td>Advanced Criminal Law</td>\n      <td>2009-10-15</td>\n      <td>7.9</td>\n      <td>2375</td>\n      <td>Señor Chang is on the hunt for a cheater and t...</td>\n    </tr>\n  </tbody>\n</table>\n</div>"
     },
     "metadata": {},
     "execution_count": 37
    }
   ],
   "source": [
    "community_episodes.head()"
   ]
  },
  {
   "cell_type": "markdown",
   "metadata": {},
   "source": [
    "Great! Now the data is tidy and ready for analysis/visualization.\n",
    "\n",
    "Let's make sure we save it:"
   ]
  },
  {
   "cell_type": "code",
   "execution_count": 36,
   "metadata": {},
   "outputs": [],
   "source": [
    "community_episodes.to_csv('Community_Episodes_IMDb_Ratings.csv',index=False)"
   ]
  },
  {
   "cell_type": "markdown",
   "metadata": {},
   "source": [
    "And that's it, I hope this was helpful! Feel free to comment or [DM me](https://twitter.com/_isabellamb) for any edits or questions.\n",
    "\n",
    "The links for my github repository for this project and the final Community ratings dataset can be found in the links at the top of this page."
   ]
  }
 ],
 "metadata": {
  "language_info": {
   "codemirror_mode": {
    "name": "ipython",
    "version": 3
   },
   "file_extension": ".py",
   "mimetype": "text/x-python",
   "name": "python",
   "nbconvert_exporter": "python",
   "pygments_lexer": "ipython3",
   "version": "3.7.7-final"
  },
  "orig_nbformat": 2,
  "kernelspec": {
   "name": "python3",
   "display_name": "Python 3"
  }
 },
 "nbformat": 4,
 "nbformat_minor": 2
}